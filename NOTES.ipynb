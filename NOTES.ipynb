{
 "cells": [
  {
   "cell_type": "code",
   "execution_count": 2,
   "id": "913c2e2f",
   "metadata": {},
   "outputs": [
    {
     "ename": "NameError",
     "evalue": "name 'os' is not defined",
     "output_type": "error",
     "traceback": [
      "\u001b[1;31m---------------------------------------------------------------------------\u001b[0m",
      "\u001b[1;31mNameError\u001b[0m                                 Traceback (most recent call last)",
      "\u001b[1;32m~\\AppData\\Local\\Temp/ipykernel_29328/2386004460.py\u001b[0m in \u001b[0;36m<module>\u001b[1;34m\u001b[0m\n\u001b[0;32m     24\u001b[0m \u001b[1;33m\u001b[0m\u001b[0m\n\u001b[0;32m     25\u001b[0m \u001b[1;32mfor\u001b[0m \u001b[0mi\u001b[0m \u001b[1;32min\u001b[0m \u001b[1;33m[\u001b[0m\u001b[1;36m20\u001b[0m\u001b[1;33m]\u001b[0m\u001b[1;33m:\u001b[0m\u001b[1;33m\u001b[0m\u001b[1;33m\u001b[0m\u001b[0m\n\u001b[1;32m---> 26\u001b[1;33m     \u001b[0mfile\u001b[0m \u001b[1;33m=\u001b[0m \u001b[0mos\u001b[0m\u001b[1;33m.\u001b[0m\u001b[0mpath\u001b[0m\u001b[1;33m.\u001b[0m\u001b[0mjoin\u001b[0m\u001b[1;33m(\u001b[0m\u001b[0mpath_data\u001b[0m\u001b[1;33m,\u001b[0m \u001b[0mimg_name\u001b[0m\u001b[1;33m+\u001b[0m\u001b[0mstr\u001b[0m\u001b[1;33m(\u001b[0m\u001b[0mi\u001b[0m\u001b[1;33m)\u001b[0m\u001b[1;33m.\u001b[0m\u001b[0mzfill\u001b[0m\u001b[1;33m(\u001b[0m\u001b[1;36m2\u001b[0m\u001b[1;33m)\u001b[0m\u001b[1;33m+\u001b[0m\u001b[1;34m\".jpg\"\u001b[0m\u001b[1;33m)\u001b[0m\u001b[1;33m\u001b[0m\u001b[1;33m\u001b[0m\u001b[0m\n\u001b[0m\u001b[0;32m     27\u001b[0m     \u001b[0mfile_save\u001b[0m \u001b[1;33m=\u001b[0m \u001b[0mos\u001b[0m\u001b[1;33m.\u001b[0m\u001b[0mpath\u001b[0m\u001b[1;33m.\u001b[0m\u001b[0mjoin\u001b[0m\u001b[1;33m(\u001b[0m\u001b[0mpath_save\u001b[0m\u001b[1;33m,\u001b[0m \u001b[0mimg_name\u001b[0m\u001b[1;33m+\u001b[0m\u001b[0mstr\u001b[0m\u001b[1;33m(\u001b[0m\u001b[0mi\u001b[0m\u001b[1;33m)\u001b[0m\u001b[1;33m.\u001b[0m\u001b[0mzfill\u001b[0m\u001b[1;33m(\u001b[0m\u001b[1;36m2\u001b[0m\u001b[1;33m)\u001b[0m\u001b[1;33m+\u001b[0m\u001b[1;34m\"_DESKEWED.jpg\"\u001b[0m\u001b[1;33m)\u001b[0m\u001b[1;33m\u001b[0m\u001b[1;33m\u001b[0m\u001b[0m\n\u001b[0;32m     28\u001b[0m \u001b[1;33m\u001b[0m\u001b[0m\n",
      "\u001b[1;31mNameError\u001b[0m: name 'os' is not defined"
     ]
    }
   ],
   "source": [
    "#PROBLEMS TO BE SOLVED:\n",
    "# - train_13 cannot well recognize corners ---> deskewing fucks it up\n",
    "\n",
    "\n",
    "# - train_19: \n",
    "#----> 6     corn = np.array(corners(hull, im)) - np.tile(np.array([0,100]), (4, 1))\n",
    "\n",
    "#      27         if len(np.array(corners)[left]) != 2:\n",
    "#      28             rem = np.argmax([x[0] for x in np.array(corners)[left]])\n",
    "# ---> 29             corners.remove(corners[rem])\n",
    "\n",
    "# ValueError: The truth value of an array with more than one element is ambiguous. Use a.any() or a.all()\n",
    "\n",
    "\n",
    "# - train_21:\n",
    "# ----> 6     corn = np.array(corners(hull, im)) - np.tile(np.array([0,100]), (4, 1))\n",
    "\n",
    "# ValueError: operands could not be broadcast together with shapes (3,2) (4,2) \n",
    "#--> IT MEANS IT'S REMOVING TOO MANY CORNERS AND IT'S LEFT WITH JUST 3 INSTEAD OF 4\n",
    "\n",
    "path_data = \"data/train\"\n",
    "path_save = \"data/output\"\n",
    "img_name = \"train_\"\n",
    "\n",
    "for i in [20]:\n",
    "    file = os.path.join(path_data, img_name+str(i).zfill(2)+\".jpg\")\n",
    "    file_save = os.path.join(path_save, img_name+str(i).zfill(2)+\"_DESKEWED.jpg\")\n",
    "    \n",
    "    out = deskew(file)\n",
    "    \n",
    "    plt.imshow(out)  "
   ]
  },
  {
   "cell_type": "code",
   "execution_count": 1,
   "id": "7ff0417f",
   "metadata": {},
   "outputs": [
    {
     "ename": "NameError",
     "evalue": "name 'math' is not defined",
     "output_type": "error",
     "traceback": [
      "\u001b[1;31m---------------------------------------------------------------------------\u001b[0m",
      "\u001b[1;31mNameError\u001b[0m                                 Traceback (most recent call last)",
      "\u001b[1;32m~\\AppData\\Local\\Temp/ipykernel_29328/4292282710.py\u001b[0m in \u001b[0;36m<module>\u001b[1;34m\u001b[0m\n\u001b[0;32m      2\u001b[0m \u001b[0mn\u001b[0m \u001b[1;33m=\u001b[0m \u001b[1;36m28\u001b[0m\u001b[1;33m\u001b[0m\u001b[1;33m\u001b[0m\u001b[0m\n\u001b[0;32m      3\u001b[0m \u001b[0mk\u001b[0m \u001b[1;33m=\u001b[0m \u001b[1;36m4\u001b[0m\u001b[1;33m\u001b[0m\u001b[1;33m\u001b[0m\u001b[0m\n\u001b[1;32m----> 4\u001b[1;33m \u001b[0mrows\u001b[0m \u001b[1;33m=\u001b[0m \u001b[0mmath\u001b[0m\u001b[1;33m.\u001b[0m\u001b[0mceil\u001b[0m\u001b[1;33m(\u001b[0m\u001b[0mn\u001b[0m\u001b[1;33m/\u001b[0m\u001b[1;36m4\u001b[0m\u001b[1;33m)\u001b[0m\u001b[1;33m\u001b[0m\u001b[1;33m\u001b[0m\u001b[0m\n\u001b[0m\u001b[0;32m      5\u001b[0m \u001b[0mfig\u001b[0m\u001b[1;33m,\u001b[0m \u001b[0maxs\u001b[0m \u001b[1;33m=\u001b[0m \u001b[0mplt\u001b[0m\u001b[1;33m.\u001b[0m\u001b[0msubplots\u001b[0m\u001b[1;33m(\u001b[0m\u001b[0mrows\u001b[0m\u001b[1;33m,\u001b[0m \u001b[1;36m4\u001b[0m \u001b[1;33m,\u001b[0m\u001b[0mfigsize\u001b[0m\u001b[1;33m=\u001b[0m\u001b[1;33m(\u001b[0m\u001b[1;36m20\u001b[0m\u001b[1;33m,\u001b[0m\u001b[1;36m5\u001b[0m\u001b[1;33m*\u001b[0m\u001b[0mrows\u001b[0m\u001b[1;33m)\u001b[0m\u001b[1;33m)\u001b[0m\u001b[1;33m\u001b[0m\u001b[1;33m\u001b[0m\u001b[0m\n\u001b[0;32m      6\u001b[0m \u001b[1;33m\u001b[0m\u001b[0m\n",
      "\u001b[1;31mNameError\u001b[0m: name 'math' is not defined"
     ]
    }
   ],
   "source": [
    "path_data = \"data/train\"\n",
    "path_save = \"data/output\"\n",
    "img_name = \"train_\"\n",
    "\n",
    "# test cut sections \n",
    "n = 28\n",
    "k = 4\n",
    "rows = math.ceil(n/4)\n",
    "fig, axs = plt.subplots(rows, 4 ,figsize=(20,5*rows))\n",
    "\n",
    "for i in range(n):\n",
    "    if i in [13, 19,21]:\n",
    "        continue\n",
    "    \n",
    "    file = os.path.join(path_data, img_name+str(i).zfill(2)+\".jpg\")\n",
    "#     file_save = os.path.join(path_save, img_name+str(i).zfill(2)+\"_DESKEWED.jpg\")\n",
    "    \n",
    "    out = deskew(file)\n",
    "    \n",
    "    row = i//4\n",
    "    col = i%4\n",
    "    \n",
    "    axs[row, col].imshow(out)   \n",
    "    axs[row, col].axis('off')\n",
    "    \n",
    "    \n",
    "    print(out.shape)\n",
    "    \n",
    "    sides_rat = 1/k\n",
    "    cent_rat = 1/(k - 2)\n",
    "    size = out.shape[0]\n",
    "    \n",
    "    half = size//2\n",
    "    beg = round(sides_rat*size)\n",
    "    end = round((1-sides_rat)*size)\n",
    "    mid = round(cent_rat*size)\n",
    "\n",
    "    rect_pl1 = Rectangle((end, beg), (size-end), mid, linewidth=1, edgecolor='r', facecolor='none')\n",
    "    rect_pl2 = Rectangle((half, 0), (size-half), beg, linewidth=1, edgecolor='blue', facecolor='none')\n",
    "    rect_pl3 = Rectangle((0, 0), half, beg, linewidth=1, edgecolor='orange', facecolor='none')\n",
    "    rect_pl4 = Rectangle((0, beg), beg, mid, linewidth=1, edgecolor='black', facecolor='none')\n",
    "    rect_table = Rectangle((0, end), size, (size-end), linewidth=1, edgecolor='fuchsia', facecolor='none')\n",
    "    rect_chips = Rectangle((end, beg), mid, mid, linewidth=1, edgecolor='green', facecolor='none')\n",
    "\n",
    "    axs[row, col].add_patch(rect_pl1)\n",
    "    axs[row, col].add_patch(rect_pl2)\n",
    "    axs[row, col].add_patch(rect_pl3)\n",
    "    axs[row, col].add_patch(rect_pl4)\n",
    "    axs[row, col].add_patch(rect_table)\n",
    "    \n",
    "fig.subplots_adjust(wspace=None, hspace=None)\n"
   ]
  },
  {
   "cell_type": "code",
   "execution_count": null,
   "id": "5e83bfdc",
   "metadata": {},
   "outputs": [],
   "source": []
  }
 ],
 "metadata": {
  "kernelspec": {
   "display_name": "Python 3 (ipykernel)",
   "language": "python",
   "name": "python3"
  },
  "language_info": {
   "codemirror_mode": {
    "name": "ipython",
    "version": 3
   },
   "file_extension": ".py",
   "mimetype": "text/x-python",
   "name": "python",
   "nbconvert_exporter": "python",
   "pygments_lexer": "ipython3",
   "version": "3.9.7"
  }
 },
 "nbformat": 4,
 "nbformat_minor": 5
}
